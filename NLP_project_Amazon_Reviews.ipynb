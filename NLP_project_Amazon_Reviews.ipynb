{
  "nbformat": 4,
  "nbformat_minor": 0,
  "metadata": {
    "colab": {
      "provenance": [],
      "authorship_tag": "ABX9TyP/Xvt0US/vFdMw3pZBUh3N",
      "include_colab_link": true
    },
    "kernelspec": {
      "name": "python3",
      "display_name": "Python 3"
    },
    "language_info": {
      "name": "python"
    }
  },
  "cells": [
    {
      "cell_type": "markdown",
      "metadata": {
        "id": "view-in-github",
        "colab_type": "text"
      },
      "source": [
        "<a href=\"https://colab.research.google.com/github/mkgreen/NLP-Amazon-Reviews/blob/main/NLP_project_Amazon_Reviews.ipynb\" target=\"_parent\"><img src=\"https://colab.research.google.com/assets/colab-badge.svg\" alt=\"Open In Colab\"/></a>"
      ]
    },
    {
      "cell_type": "markdown",
      "source": [
        "**From Project Instructions:**\n",
        "\n",
        "# NLP Project\n",
        "\n",
        "## **Amazon Fine Food Reviews Analysis** \n",
        "\n",
        "Data Source: https://www.kaggle.com/snap/amazon-fine-food-reviews\n",
        "\n",
        "**Objective:**\n",
        "\n",
        "Given a review, determine whether the review is positive or negative.\n",
        "- **How to determine if a review is positive or negative?**\n",
        "\n",
        "We could use the Score/Rating. A rating of 4 or 5 could be cosnidered a positive review. A review of 1 or 2 could be considered negative. A review of 3 is nuetral and ignored. This is an approximate and proxy way of determining the polarity (positivity/negativity) of a review.\n",
        "\n",
        "\n",
        "# **Dataset**\n",
        "\n",
        "This dataset consists of reviews of fine foods from amazon. The data span a period of more than 10 years, including all ~500,000 reviews up to October 2012. Reviews include product and user information, ratings, and a plain text review. It also includes reviews from all other Amazon categories.\n",
        "\n",
        "**Attribute Information:**\n",
        "\n",
        "There are a total of 10 columns in total in the Amazon Fine Food review dataset.\n",
        "\n",
        "- Id : Row Id\n",
        "- ProductId : Unique identifier for the product.\n",
        "- UserId : Unique identifier for the user.\n",
        "- ProfileName : Profile Name of the User.\n",
        "- HelpfulnessNumerator : Number of users who found the review helpful.\n",
        "- HelpfulnessDenominator : Number of users who indicated whether they found the review helpful or not.\n",
        "- Score : Rating between 1 and 5.\n",
        "- Time : Timestamp for the review.\n",
        "- Summary : Brief summary of the review.\n",
        "- Text : Text of the review."
      ],
      "metadata": {
        "id": "0vhzwcag3uwJ"
      }
    },
    {
      "cell_type": "markdown",
      "source": [
        "# The Plan\n",
        "1. **Collect the data**: We will need to find a source of Amazon food reviews and retrieve the data. Amazon has a public dataset on AWS that includes food reviews, but we can also scrape the data from the Amazon website using Python.\n",
        "\n",
        "2. **Explore the data**: Once we have the data, we will need to explore it to understand its structure, contents, and quality. We can use Python libraries such as Pandas, NumPy, and Matplotlib to perform exploratory data analysis (EDA).\n",
        "\n",
        "3. **Clean the data**: We may need to clean the data to remove irrelevant or inaccurate information, handle missing values, and remove duplicates. We can use Pandas and other Python libraries to clean and preprocess the data.\n",
        "\n",
        "4. **Transform the data**: We may need to transform the data into a format that is suitable for analysis. For example, we may need to convert text reviews into numerical features using techniques such as tokenization, stemming, and TF-IDF.\n",
        "\n",
        "5. **Perform analysis**: We can use Python libraries such as Scikit-Learn and NLTK to perform sentiment analysis, topic modeling, and other types of analysis on the food reviews.\n",
        "\n",
        "6. **Visualize the results**: We can use Python libraries such as Matplotlib and Seaborn to create visualizations that help us understand and communicate the results of our analysis.\n",
        "\n"
      ],
      "metadata": {
        "id": "dxijVp-C3NkZ"
      }
    },
    {
      "cell_type": "code",
      "execution_count": 5,
      "metadata": {
        "colab": {
          "base_uri": "https://localhost:8080/",
          "height": 739
        },
        "id": "mKYQ55rQiUr9",
        "outputId": "5698b7c4-b1ae-4de0-c3fd-63912545455b"
      },
      "outputs": [
        {
          "output_type": "execute_result",
          "data": {
            "text/plain": [
              "   Id   ProductId          UserId                      ProfileName  \\\n",
              "0   1  B001E4KFG0  A3SGXH7AUHU8GW                       delmartian   \n",
              "1   2  B00813GRG4  A1D87F6ZCVE5NK                           dll pa   \n",
              "2   3  B000LQOCH0   ABXLMWJIXXAIN  Natalia Corres \"Natalia Corres\"   \n",
              "3   4  B000UA0QIQ  A395BORC6FGVXV                             Karl   \n",
              "4   5  B006K2ZZ7K  A1UQRSCLF8GW1T    Michael D. Bigham \"M. Wassir\"   \n",
              "\n",
              "   HelpfulnessNumerator  HelpfulnessDenominator  Score        Time  \\\n",
              "0                     1                       1      5  1303862400   \n",
              "1                     0                       0      1  1346976000   \n",
              "2                     1                       1      4  1219017600   \n",
              "3                     3                       3      2  1307923200   \n",
              "4                     0                       0      5  1350777600   \n",
              "\n",
              "                 Summary                                               Text  \n",
              "0  Good Quality Dog Food  I have bought several of the Vitality canned d...  \n",
              "1      Not as Advertised  Product arrived labeled as Jumbo Salted Peanut...  \n",
              "2  \"Delight\" says it all  This is a confection that has been around a fe...  \n",
              "3         Cough Medicine  If you are looking for the secret ingredient i...  \n",
              "4            Great taffy  Great taffy at a great price.  There was a wid...  "
            ],
            "text/html": [
              "\n",
              "  <div id=\"df-fb1807ef-6c5b-44d5-987e-90afec6a5168\">\n",
              "    <div class=\"colab-df-container\">\n",
              "      <div>\n",
              "<style scoped>\n",
              "    .dataframe tbody tr th:only-of-type {\n",
              "        vertical-align: middle;\n",
              "    }\n",
              "\n",
              "    .dataframe tbody tr th {\n",
              "        vertical-align: top;\n",
              "    }\n",
              "\n",
              "    .dataframe thead th {\n",
              "        text-align: right;\n",
              "    }\n",
              "</style>\n",
              "<table border=\"1\" class=\"dataframe\">\n",
              "  <thead>\n",
              "    <tr style=\"text-align: right;\">\n",
              "      <th></th>\n",
              "      <th>Id</th>\n",
              "      <th>ProductId</th>\n",
              "      <th>UserId</th>\n",
              "      <th>ProfileName</th>\n",
              "      <th>HelpfulnessNumerator</th>\n",
              "      <th>HelpfulnessDenominator</th>\n",
              "      <th>Score</th>\n",
              "      <th>Time</th>\n",
              "      <th>Summary</th>\n",
              "      <th>Text</th>\n",
              "    </tr>\n",
              "  </thead>\n",
              "  <tbody>\n",
              "    <tr>\n",
              "      <th>0</th>\n",
              "      <td>1</td>\n",
              "      <td>B001E4KFG0</td>\n",
              "      <td>A3SGXH7AUHU8GW</td>\n",
              "      <td>delmartian</td>\n",
              "      <td>1</td>\n",
              "      <td>1</td>\n",
              "      <td>5</td>\n",
              "      <td>1303862400</td>\n",
              "      <td>Good Quality Dog Food</td>\n",
              "      <td>I have bought several of the Vitality canned d...</td>\n",
              "    </tr>\n",
              "    <tr>\n",
              "      <th>1</th>\n",
              "      <td>2</td>\n",
              "      <td>B00813GRG4</td>\n",
              "      <td>A1D87F6ZCVE5NK</td>\n",
              "      <td>dll pa</td>\n",
              "      <td>0</td>\n",
              "      <td>0</td>\n",
              "      <td>1</td>\n",
              "      <td>1346976000</td>\n",
              "      <td>Not as Advertised</td>\n",
              "      <td>Product arrived labeled as Jumbo Salted Peanut...</td>\n",
              "    </tr>\n",
              "    <tr>\n",
              "      <th>2</th>\n",
              "      <td>3</td>\n",
              "      <td>B000LQOCH0</td>\n",
              "      <td>ABXLMWJIXXAIN</td>\n",
              "      <td>Natalia Corres \"Natalia Corres\"</td>\n",
              "      <td>1</td>\n",
              "      <td>1</td>\n",
              "      <td>4</td>\n",
              "      <td>1219017600</td>\n",
              "      <td>\"Delight\" says it all</td>\n",
              "      <td>This is a confection that has been around a fe...</td>\n",
              "    </tr>\n",
              "    <tr>\n",
              "      <th>3</th>\n",
              "      <td>4</td>\n",
              "      <td>B000UA0QIQ</td>\n",
              "      <td>A395BORC6FGVXV</td>\n",
              "      <td>Karl</td>\n",
              "      <td>3</td>\n",
              "      <td>3</td>\n",
              "      <td>2</td>\n",
              "      <td>1307923200</td>\n",
              "      <td>Cough Medicine</td>\n",
              "      <td>If you are looking for the secret ingredient i...</td>\n",
              "    </tr>\n",
              "    <tr>\n",
              "      <th>4</th>\n",
              "      <td>5</td>\n",
              "      <td>B006K2ZZ7K</td>\n",
              "      <td>A1UQRSCLF8GW1T</td>\n",
              "      <td>Michael D. Bigham \"M. Wassir\"</td>\n",
              "      <td>0</td>\n",
              "      <td>0</td>\n",
              "      <td>5</td>\n",
              "      <td>1350777600</td>\n",
              "      <td>Great taffy</td>\n",
              "      <td>Great taffy at a great price.  There was a wid...</td>\n",
              "    </tr>\n",
              "  </tbody>\n",
              "</table>\n",
              "</div>\n",
              "      <button class=\"colab-df-convert\" onclick=\"convertToInteractive('df-fb1807ef-6c5b-44d5-987e-90afec6a5168')\"\n",
              "              title=\"Convert this dataframe to an interactive table.\"\n",
              "              style=\"display:none;\">\n",
              "        \n",
              "  <svg xmlns=\"http://www.w3.org/2000/svg\" height=\"24px\"viewBox=\"0 0 24 24\"\n",
              "       width=\"24px\">\n",
              "    <path d=\"M0 0h24v24H0V0z\" fill=\"none\"/>\n",
              "    <path d=\"M18.56 5.44l.94 2.06.94-2.06 2.06-.94-2.06-.94-.94-2.06-.94 2.06-2.06.94zm-11 1L8.5 8.5l.94-2.06 2.06-.94-2.06-.94L8.5 2.5l-.94 2.06-2.06.94zm10 10l.94 2.06.94-2.06 2.06-.94-2.06-.94-.94-2.06-.94 2.06-2.06.94z\"/><path d=\"M17.41 7.96l-1.37-1.37c-.4-.4-.92-.59-1.43-.59-.52 0-1.04.2-1.43.59L10.3 9.45l-7.72 7.72c-.78.78-.78 2.05 0 2.83L4 21.41c.39.39.9.59 1.41.59.51 0 1.02-.2 1.41-.59l7.78-7.78 2.81-2.81c.8-.78.8-2.07 0-2.86zM5.41 20L4 18.59l7.72-7.72 1.47 1.35L5.41 20z\"/>\n",
              "  </svg>\n",
              "      </button>\n",
              "      \n",
              "  <style>\n",
              "    .colab-df-container {\n",
              "      display:flex;\n",
              "      flex-wrap:wrap;\n",
              "      gap: 12px;\n",
              "    }\n",
              "\n",
              "    .colab-df-convert {\n",
              "      background-color: #E8F0FE;\n",
              "      border: none;\n",
              "      border-radius: 50%;\n",
              "      cursor: pointer;\n",
              "      display: none;\n",
              "      fill: #1967D2;\n",
              "      height: 32px;\n",
              "      padding: 0 0 0 0;\n",
              "      width: 32px;\n",
              "    }\n",
              "\n",
              "    .colab-df-convert:hover {\n",
              "      background-color: #E2EBFA;\n",
              "      box-shadow: 0px 1px 2px rgba(60, 64, 67, 0.3), 0px 1px 3px 1px rgba(60, 64, 67, 0.15);\n",
              "      fill: #174EA6;\n",
              "    }\n",
              "\n",
              "    [theme=dark] .colab-df-convert {\n",
              "      background-color: #3B4455;\n",
              "      fill: #D2E3FC;\n",
              "    }\n",
              "\n",
              "    [theme=dark] .colab-df-convert:hover {\n",
              "      background-color: #434B5C;\n",
              "      box-shadow: 0px 1px 3px 1px rgba(0, 0, 0, 0.15);\n",
              "      filter: drop-shadow(0px 1px 2px rgba(0, 0, 0, 0.3));\n",
              "      fill: #FFFFFF;\n",
              "    }\n",
              "  </style>\n",
              "\n",
              "      <script>\n",
              "        const buttonEl =\n",
              "          document.querySelector('#df-fb1807ef-6c5b-44d5-987e-90afec6a5168 button.colab-df-convert');\n",
              "        buttonEl.style.display =\n",
              "          google.colab.kernel.accessAllowed ? 'block' : 'none';\n",
              "\n",
              "        async function convertToInteractive(key) {\n",
              "          const element = document.querySelector('#df-fb1807ef-6c5b-44d5-987e-90afec6a5168');\n",
              "          const dataTable =\n",
              "            await google.colab.kernel.invokeFunction('convertToInteractive',\n",
              "                                                     [key], {});\n",
              "          if (!dataTable) return;\n",
              "\n",
              "          const docLinkHtml = 'Like what you see? Visit the ' +\n",
              "            '<a target=\"_blank\" href=https://colab.research.google.com/notebooks/data_table.ipynb>data table notebook</a>'\n",
              "            + ' to learn more about interactive tables.';\n",
              "          element.innerHTML = '';\n",
              "          dataTable['output_type'] = 'display_data';\n",
              "          await google.colab.output.renderOutput(dataTable, element);\n",
              "          const docLink = document.createElement('div');\n",
              "          docLink.innerHTML = docLinkHtml;\n",
              "          element.appendChild(docLink);\n",
              "        }\n",
              "      </script>\n",
              "    </div>\n",
              "  </div>\n",
              "  "
            ]
          },
          "metadata": {},
          "execution_count": 5
        }
      ],
      "source": [
        "import pandas as pd\n",
        "import numpy as np\n",
        "import matplotlib.pyplot as plt\n",
        "import seaborn as sns\n",
        "\n",
        "# Load the dataset\n",
        "reviews_df = pd.read_csv(\"/content/Reviews.csv\")\n",
        "\n",
        "# Preview the dataset\n",
        "reviews_df.head()"
      ]
    },
    {
      "cell_type": "code",
      "source": [
        "reviews_df.shape"
      ],
      "metadata": {
        "colab": {
          "base_uri": "https://localhost:8080/"
        },
        "id": "TJPxa9dy5CS7",
        "outputId": "4bafa4b7-8209-4f1d-e0b3-2393e62fb3a5"
      },
      "execution_count": 7,
      "outputs": [
        {
          "output_type": "execute_result",
          "data": {
            "text/plain": [
              "(568454, 10)"
            ]
          },
          "metadata": {},
          "execution_count": 7
        }
      ]
    },
    {
      "cell_type": "markdown",
      "source": [
        "The data contains ten columns, as described in the dataset description. Each row represents a product review, with information about the user, product, rating, and text of the review. \n",
        "\n",
        "The HelpfulnessNumerator and HelpfulnessDenominator columns are used to calculate the helpfulness of a review. The Score column represents the rating given by the user, with one being the lowest and five being the highest. The Time column contains the timestamp of the review. Finally, the Summary and Text columns include the summary and full text of the review, accordingly."
      ],
      "metadata": {
        "id": "HoB3BzHC8kM6"
      }
    },
    {
      "cell_type": "markdown",
      "source": [
        "# Cleaning and Preprocessing the Data\n",
        "\n",
        "\n",
        "Remove duplicates, handle missing values, and convert the text reviews into numerical features using the TF-IDF vectorization technique"
      ],
      "metadata": {
        "id": "9FxxiK2EjI4T"
      }
    },
    {
      "cell_type": "code",
      "source": [
        "# Remove duplicates\n",
        "reviews_df.drop_duplicates(subset=[\"UserId\", \"ProfileName\", \"Time\", \"Text\"], inplace=True)\n",
        "\n",
        "# Handle missing values \n",
        "reviews_df.dropna(subset=[\"Summary\", \"Text\"], inplace=True)\n",
        "\n",
        "# Convert text reviews into numerical features using TF-IDF\n",
        "from sklearn.feature_extraction.text import TfidfVectorizer\n",
        "tfidf = TfidfVectorizer(stop_words=\"english\")\n",
        "X = tfidf.fit_transform(reviews_df[\"Text\"])\n",
        "y = np.where(reviews_df[\"Score\"] >= 4, 1, 0)"
      ],
      "metadata": {
        "id": "b396EFAnjo4l"
      },
      "execution_count": 10,
      "outputs": []
    },
    {
      "cell_type": "markdown",
      "source": [
        "I have now created X and y arrays, representing the input data (text reviews transformed into numerical features using TF-IDF) and the target data (binary labels indicating positive or negative sentiment).\n",
        "\n",
        "I will split the data into training and testing sets using Scikit-Learn's train_test_split function:\n",
        "\n"
      ],
      "metadata": {
        "id": "i49t7GjZ-OIA"
      }
    },
    {
      "cell_type": "code",
      "source": [
        "from sklearn.model_selection import train_test_split\n",
        "X_train, X_test, y_train, y_test = train_test_split(X, y, test_size=0.3, random_state=42)"
      ],
      "metadata": {
        "id": "exshnmql9Rlb"
      },
      "execution_count": 11,
      "outputs": []
    },
    {
      "cell_type": "markdown",
      "source": [
        "Next, I will train a machine learning model on the training data and evaluate its performance on the testing data. I am using a logistic regression model, which is a simple yet effective model for binary classification tasks."
      ],
      "metadata": {
        "id": "voWHHSs1_ZHx"
      }
    },
    {
      "cell_type": "code",
      "source": [
        "from sklearn.linear_model import LogisticRegression\n",
        "from sklearn.metrics import accuracy_score, confusion_matrix\n",
        "\n",
        "# Train a logistic regression model\n",
        "lr = LogisticRegression()\n",
        "lr.fit(X_train, y_train)\n",
        "\n",
        "# Make predictions on the testing data\n",
        "y_pred = lr.predict(X_test)\n",
        "\n",
        "# Evaluate the model's performance\n",
        "accuracy = accuracy_score(y_test, y_pred)\n",
        "confusion = confusion_matrix(y_test, y_pred)\n",
        "print(f\"Accuracy: {accuracy:.3f}\")\n",
        "print(f\"Confusion matrix:\\n{confusion}\")\n",
        "print(\"\")\n",
        "\n",
        "sns.heatmap(confusion, annot=True, cmap=\"Blues\", fmt=\"d\")\n",
        "plt.xlabel(\"Predicted label\")\n",
        "plt.ylabel(\"True label\")\n",
        "plt.title(\"Confusion Matrix\")\n",
        "plt.show()"
      ],
      "metadata": {
        "colab": {
          "base_uri": "https://localhost:8080/",
          "height": 546
        },
        "id": "DcYiCYGN_Y3R",
        "outputId": "f73896e4-790c-406c-c9b8-d596815f2825"
      },
      "execution_count": 17,
      "outputs": [
        {
          "output_type": "stream",
          "name": "stderr",
          "text": [
            "/usr/local/lib/python3.8/dist-packages/sklearn/linear_model/_logistic.py:814: ConvergenceWarning: lbfgs failed to converge (status=1):\n",
            "STOP: TOTAL NO. of ITERATIONS REACHED LIMIT.\n",
            "\n",
            "Increase the number of iterations (max_iter) or scale the data as shown in:\n",
            "    https://scikit-learn.org/stable/modules/preprocessing.html\n",
            "Please also refer to the documentation for alternative solver options:\n",
            "    https://scikit-learn.org/stable/modules/linear_model.html#logistic-regression\n",
            "  n_iter_i = _check_optimize_result(\n"
          ]
        },
        {
          "output_type": "stream",
          "name": "stdout",
          "text": [
            "Accuracy: 0.886\n",
            "Confusion matrix:\n",
            "[[16716  9553]\n",
            " [ 3891 88019]]\n",
            "\n"
          ]
        },
        {
          "output_type": "display_data",
          "data": {
            "text/plain": [
              "<Figure size 432x288 with 2 Axes>"
            ],
            "image/png": "[encoded data removed]"
          },
          "metadata": {
            "needs_background": "light"
          }
        }
      ]
    },
    {
      "cell_type": "markdown",
      "source": [
        "The accuracy of the model is 0.886, which means that 88.6% of the reviews were correctly classified as positive or negative based on their rating.\n",
        "\n",
        "The confusion matrix shows the number of true positive (16716), true negative (88019), false positive (9553), and false negative (3891) predictions made by the model. The true positive and true negative values indicate the number of reviews correctly classified as positive and negative, respectively. Conversely, the false positive and false negative values indicate the number of reviews incorrectly classified as positive and negative.\n",
        "\n",
        "The last line of the output is a warning message that the lbfgs solver used in the logistic regression model failed to converge, which means that the model did not reach the optimal solution. The message suggests increasing the number of iterations or scaling the data to improve the model performance. It also suggests referring to the documentation for alternative solver options."
      ],
      "metadata": {
        "id": "R59xxRy3AVw5"
      }
    },
    {
      "cell_type": "markdown",
      "source": [
        "---\n",
        "### What's next?\n",
        "\n",
        "how you can improve the results of your sentiment analysis model:\n",
        "\n",
        "1. Data Cleaning: Cleaning the text data can help improve the accuracy of the model. This includes removing stop words, punctuation, and other non-relevant information from the text. You can also apply techniques such as stemming and lemmatization to reduce the number of unique words in the data.\n",
        "\n",
        "2. Feature Engineering: Consider adding more features to the model that can help improve its accuracy. For example, you can create features such as the length of the review, the number of positive and negative words in the review, or the presence of specific keywords in the review.\n",
        "\n",
        "3. Model Selection: Consider using other classification algorithms such as Random Forest, Naive Bayes, or SVM to see if they perform better than logistic regression on this dataset.\n",
        "\n",
        "4. Hyperparameter Tuning: Experiment with different hyperparameters for the logistic regression model to see if you can improve the accuracy. For example, you can try different values for the regularization parameter C or change the solver algorithm.\n",
        "\n",
        "5. Balancing the Dataset: If the dataset is imbalanced, meaning that one class has significantly more data points than the other, consider using techniques such as oversampling or undersampling to balance the dataset. This can help improve the accuracy of the model on the minority class.\n",
        "\n",
        "6. Domain-Specific Features: If you have domain-specific knowledge about the products being reviewed, you can create features that capture specific aspects of the products that are important to customers. For example, if you are analyzing food reviews, you can create features that capture the taste, texture, or freshness of the food.\n",
        "\n"
      ],
      "metadata": {
        "id": "FgTdHmzrDPvQ"
      }
    }
  ]
}